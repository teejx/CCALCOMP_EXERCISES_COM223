{
  "cells": [
    {
      "cell_type": "markdown",
      "metadata": {
        "id": "cPRRjBOhHHMh"
      },
      "source": [
        "# Exercise 4\n",
        "\n",
        "Please follow the instructions in each number."
      ]
    },
    {
      "cell_type": "markdown",
      "metadata": {
        "id": "zvDTNWRFHHMk"
      },
      "source": [
        "### Activity Selection Problem\n",
        "\n",
        "Given a set of activities, along with the starting and finishing time of each activity, find the maximum number of activities performed by a single person assuming that a person can only work on a single activity at a time.\n",
        "\n",
        "For example,\n",
        "\n",
        "Input: Following set of activities (1, 4), (3, 5), (0, 6), (5, 7), (3, 8), (5, 9), (6, 10), (8, 11), (8, 12), (2, 13), (12, 14)  \n",
        "\n",
        "Output: (1, 4), (5, 7), (8, 11), (12, 14)"
      ]
    },
    {
      "cell_type": "markdown",
      "metadata": {
        "id": "ff7w7YLGHHMl"
      },
      "source": [
        "## Tasks"
      ]
    },
    {
      "cell_type": "markdown",
      "metadata": {
        "id": "0QLHdoNSHHMl"
      },
      "source": [
        "1. Write a program using a recursive greedy approach to get the maximum number of activities (`50 points`)"
      ]
    },
    {
      "cell_type": "code",
      "execution_count": 1,
      "metadata": {
        "vscode": {
          "languageId": "plaintext"
        },
        "id": "Xe02cHvAHHMl",
        "outputId": "fa97b1d0-67b7-4a9e-8bd0-89d2eb233450",
        "colab": {
          "base_uri": "https://localhost:8080/"
        }
      },
      "outputs": [
        {
          "output_type": "stream",
          "name": "stdout",
          "text": [
            "Selected activities (recursive): [(1, 4), (5, 7), (8, 11), (12, 14)]\n"
          ]
        }
      ],
      "source": [
        "# put your answer here\n",
        "\n",
        "def recursive_activity_selector(activities, selected_activities, k, n):\n",
        "    m = k + 1\n",
        "    while m < n and activities[m][0] < activities[k][1]:\n",
        "        m += 1\n",
        "    if m < n:\n",
        "        selected_activities.append(activities[m])\n",
        "        return recursive_activity_selector(activities, selected_activities, m, n)\n",
        "    else:\n",
        "        return selected_activities\n",
        "\n",
        "def activity_selection_recursive(activities):\n",
        "    activities.sort(key=lambda x: x[1])\n",
        "    selected_activities = [activities[0]]\n",
        "    return recursive_activity_selector(activities, selected_activities, 0, len(activities))\n",
        "\n",
        "\n",
        "activities = [(1, 4), (3, 5), (0, 6), (5, 7), (3, 8), (5, 9), (6, 10), (8, 11), (8, 12), (2, 13), (12, 14)]\n",
        "result = activity_selection_recursive(activities)\n",
        "print(\"Selected activities (recursive):\", result)\n"
      ]
    },
    {
      "cell_type": "markdown",
      "metadata": {
        "id": "eZe27u4LHHMn"
      },
      "source": [
        "2. Write a program using a iterative greedy approach to get the maximun number of activities (`50 points`)"
      ]
    },
    {
      "cell_type": "code",
      "execution_count": 2,
      "metadata": {
        "vscode": {
          "languageId": "plaintext"
        },
        "id": "UrSZyQwEHHMn",
        "outputId": "19385649-8486-45da-ceef-d8380db00485",
        "colab": {
          "base_uri": "https://localhost:8080/"
        }
      },
      "outputs": [
        {
          "output_type": "stream",
          "name": "stdout",
          "text": [
            "Selected activities (iterative): [(1, 4), (5, 7), (8, 11), (12, 14)]\n"
          ]
        }
      ],
      "source": [
        "# put your answer here\n",
        "\n",
        "def activity_selection_iterative(activities):\n",
        "    activities.sort(key=lambda x: x[1])\n",
        "    n = len(activities)\n",
        "    selected_activities = [activities[0]]\n",
        "    k = 0\n",
        "    for m in range(1, n):\n",
        "        if activities[m][0] >= activities[k][1]:\n",
        "            selected_activities.append(activities[m])\n",
        "            k = m\n",
        "    return selected_activities\n",
        "\n",
        "# Example usage\n",
        "activities = [(1, 4), (3, 5), (0, 6), (5, 7), (3, 8), (5, 9), (6, 10), (8, 11), (8, 12), (2, 13), (12, 14)]\n",
        "result = activity_selection_iterative(activities)\n",
        "print(\"Selected activities (iterative):\", result)\n"
      ]
    }
  ],
  "metadata": {
    "colab": {
      "provenance": []
    },
    "kernelspec": {
      "display_name": "base",
      "language": "python",
      "name": "python3"
    },
    "language_info": {
      "codemirror_mode": {
        "name": "ipython",
        "version": 3
      },
      "file_extension": ".py",
      "mimetype": "text/x-python",
      "name": "python",
      "nbconvert_exporter": "python",
      "pygments_lexer": "ipython3",
      "version": "3.9.6"
    }
  },
  "nbformat": 4,
  "nbformat_minor": 0
}