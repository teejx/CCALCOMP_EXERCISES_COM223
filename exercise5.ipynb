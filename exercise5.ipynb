{
  "cells": [
    {
      "cell_type": "markdown",
      "metadata": {
        "id": "-8bYOEC8HOQ4"
      },
      "source": [
        "# Exercise 5\n",
        "\n",
        "Please follow the instructions in each number."
      ]
    },
    {
      "cell_type": "markdown",
      "metadata": {
        "id": "FEPXLUAPHOQ6"
      },
      "source": [
        "### Maximum Subarray\n",
        "Given an array of integers nums, find the subarray with the largest sum and return the sum.\n",
        "\n",
        "A subarray is a contiguous non-empty sequence of elements within an array.\n",
        "\n",
        "\n",
        "\n",
        "Example 1:\n",
        "\n",
        "Input: nums = [2,-3,4,-2,2,1,-1,4]\n",
        "\n",
        "Output: 8\n",
        "\n",
        "Explanation: The subarray [4,-2,2,1,-1,4] has the largest sum 8."
      ]
    },
    {
      "cell_type": "markdown",
      "metadata": {
        "id": "D4a-4yS4HOQ7"
      },
      "source": [
        "## Tasks"
      ]
    },
    {
      "cell_type": "markdown",
      "metadata": {
        "id": "v8mlE6kYHOQ7"
      },
      "source": [
        "1. Put your student number in a list and manually compute the maximum subarray in your student number (`10 points`)"
      ]
    },
    {
      "cell_type": "code",
      "execution_count": 2,
      "metadata": {
        "vscode": {
          "languageId": "plaintext"
        },
        "id": "YJMIVpuTHOQ8",
        "outputId": "eba10c52-96d1-4fce-b814-8d41fad7df25",
        "colab": {
          "base_uri": "https://localhost:8080/"
        }
      },
      "outputs": [
        {
          "output_type": "stream",
          "name": "stdout",
          "text": [
            "30\n"
          ]
        }
      ],
      "source": [
        "# put your answer here\n",
        "[2,0,2,2,1,0,8,6,1,8]\n",
        "max = 2 + 0 + 2 + 2 + 1 + 0 + 8 + 6 + 1 + 8\n",
        "print(max);"
      ]
    },
    {
      "cell_type": "markdown",
      "metadata": {
        "id": "nchQgI2KHOQ8"
      },
      "source": [
        "2. Write a program using a brute-force approach to get the maximum-subarray of your student number (`40 points`)"
      ]
    },
    {
      "cell_type": "code",
      "execution_count": null,
      "metadata": {
        "vscode": {
          "languageId": "plaintext"
        },
        "id": "b9P6oe11HOQ9"
      },
      "outputs": [],
      "source": [
        "# put your answer here\n",
        "\n",
        "def max_subarray_bruteforce(nums):\n",
        "    max_sum = float('-inf')\n",
        "    start_idx, end_idx = 0, 0\n",
        "    n = len(nums)\n",
        "    for i in range(n):\n",
        "        for j in range(i, n):\n",
        "            current_sum = sum(nums[i:j+1])\n",
        "            if current_sum > max_sum:\n",
        "                max_sum = current_sum\n",
        "                start_idx, end_idx = i, j\n",
        "    return max_sum, nums[start_idx:end_idx+1]\n",
        "\n",
        "# Example usage\n",
        "student_number = [2, 0, 2, 2, 1, 0, 8, 6, 1, 8]\n",
        "max_sum, subarray = max_subarray_bruteforce(student_number)\n",
        "print(f\"Maximum subarray (brute-force): {subarray} with sum {max_sum}\")"
      ]
    },
    {
      "cell_type": "markdown",
      "metadata": {
        "id": "NkqAxIx_HOQ9"
      },
      "source": [
        "3. Write a program using a dynamic programming to get the maximum-subarray of your student number (`50 points`)"
      ]
    },
    {
      "cell_type": "code",
      "execution_count": null,
      "metadata": {
        "vscode": {
          "languageId": "plaintext"
        },
        "id": "BFBp2ARLHOQ9"
      },
      "outputs": [],
      "source": [
        "# put your answer here\n",
        "\n",
        "# Kadane's Algorithm\n",
        "\n",
        "def max_subarray_dynamic(nums):\n",
        "    max_ending_here = nums[0]\n",
        "    max_so_far = nums[0]\n",
        "    start_idx = 0\n",
        "    end_idx = 0\n",
        "    s = 0\n",
        "\n",
        "    for i in range(1, len(nums)):\n",
        "        if nums[i] > max_ending_here + nums[i]:\n",
        "            max_ending_here = nums[i]\n",
        "            s = i\n",
        "        else:\n",
        "            max_ending_here += nums[i]\n",
        "\n",
        "        if max_ending_here > max_so_far:\n",
        "            max_so_far = max_ending_here\n",
        "            start_idx = s\n",
        "            end_idx = i\n",
        "\n",
        "    return max_so_far, nums[start_idx:end_idx+1]\n",
        "\n",
        "# Example usage\n",
        "student_number = [2, 0, 2, 2, 1, 0, 8, 6, 1, 8]\n",
        "max_sum, subarray = max_subarray_dynamic(student_number)\n",
        "print(f\"Maximum subarray (dynamic programming): {subarray} with sum {max_sum}\")"
      ]
    }
  ],
  "metadata": {
    "colab": {
      "provenance": []
    },
    "kernelspec": {
      "display_name": "base",
      "language": "python",
      "name": "python3"
    },
    "language_info": {
      "codemirror_mode": {
        "name": "ipython",
        "version": 3
      },
      "file_extension": ".py",
      "mimetype": "text/x-python",
      "name": "python",
      "nbconvert_exporter": "python",
      "pygments_lexer": "ipython3",
      "version": "3.9.6"
    }
  },
  "nbformat": 4,
  "nbformat_minor": 0
}