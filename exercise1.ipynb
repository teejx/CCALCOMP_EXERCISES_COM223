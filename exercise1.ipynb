{
  "cells": [
    {
      "cell_type": "markdown",
      "metadata": {
        "id": "3-prKGbfwFRd"
      },
      "source": [
        "# Exercise 1"
      ]
    },
    {
      "cell_type": "markdown",
      "metadata": {
        "id": "kBW-_z9HwFRf"
      },
      "source": [
        "Please follow the instructions in each number. Do not remove or modify the pre-defined code!"
      ]
    },
    {
      "cell_type": "code",
      "execution_count": 59,
      "metadata": {
        "id": "ABAdD_ngwFRg"
      },
      "outputs": [],
      "source": [
        "# Add a vertex to the set of vertices and the graph\n",
        "def add_vertex(v):\n",
        "  global graph\n",
        "  global vertices_no\n",
        "  global vertices\n",
        "  if v in vertices:\n",
        "    print(\"Vertex \", v, \" already exists\")\n",
        "  else:\n",
        "    vertices_no = vertices_no + 1\n",
        "    vertices.append(v)\n",
        "    if vertices_no > 1:\n",
        "        for vertex in graph:\n",
        "            vertex.append(0)\n",
        "    temp = []\n",
        "    for i in range(vertices_no):\n",
        "        temp.append(0)\n",
        "    graph.append(temp)\n",
        "\n",
        "# Add an edge between vertex v1 and v2 with edge weight e\n",
        "def add_edge(v1, v2, e):\n",
        "    global graph\n",
        "    global vertices_no\n",
        "    global vertices\n",
        "    # Check if vertex v1 is a valid vertex\n",
        "    if v1 not in vertices:\n",
        "        print(\"Vertex \", v1, \" does not exist.\")\n",
        "    # Check if vertex v1 is a valid vertex\n",
        "    elif v2 not in vertices:\n",
        "        print(\"Vertex \", v2, \" does not exist.\")\n",
        "    # Since this code is not restricted to a directed or\n",
        "    # an undirected graph, an edge between v1 v2 does not\n",
        "    # imply that an edge exists between v2 and v1\n",
        "    else:\n",
        "        index1 = vertices.index(v1)\n",
        "        index2 = vertices.index(v2)\n",
        "        graph[index1][index2] = e\n",
        "\n",
        "# Print the graph\n",
        "def print_graph():\n",
        "  global graph\n",
        "  global vertices_no\n",
        "  for i in range(vertices_no):\n",
        "    for j in range(vertices_no):\n",
        "      if graph[i][j] != 0:\n",
        "        print(vertices[i], \" -> \", vertices[j],\n",
        "              \" edge weight: \", graph[i][j])"
      ]
    },
    {
      "cell_type": "code",
      "execution_count": 60,
      "metadata": {
        "id": "912w9tR0wFRh"
      },
      "outputs": [],
      "source": [
        "# stores the vertices in the graph\n",
        "vertices = []\n",
        "# stores the number of vertices in the graph\n",
        "vertices_no = 0\n",
        "graph = []"
      ]
    },
    {
      "cell_type": "markdown",
      "source": [],
      "metadata": {
        "id": "6aZqJM2xBRzr"
      }
    },
    {
      "cell_type": "markdown",
      "metadata": {
        "id": "lzkib3wYwFRh"
      },
      "source": [
        "<img src=\"https://github.com/robitussin/CCALCOMP_EXERCISES/blob/main/images/directed%20graph2.png?raw=true\"/>"
      ]
    },
    {
      "cell_type": "markdown",
      "metadata": {
        "id": "Qfh-2gbPwFRi"
      },
      "source": [
        "1. Print the edges and vertices of the graph in set representation. (`25 points`)"
      ]
    },
    {
      "cell_type": "code",
      "execution_count": 61,
      "metadata": {
        "id": "FSymqoxmwFRi",
        "colab": {
          "base_uri": "https://localhost:8080/"
        },
        "outputId": "4a5aac0d-63e1-4819-8e75-987cea57f1c6"
      },
      "outputs": [
        {
          "output_type": "stream",
          "name": "stdout",
          "text": [
            "Edges: {('C', 'B'), ('B', 'A'), ('E', 'A'), ('A', 'D'), ('C', 'D'), ('A', 'C')}\n",
            "Vertices: {'A', 'E', 'C', 'D', 'b'}\n"
          ]
        }
      ],
      "source": [
        "# put your answer here\n",
        "vertex = {'A','b','C','D','E'}\n",
        "\n",
        "edge = {(\"B\", \"A\"),(\"A\", \"D\"),(\"C\", \"B\"),(\"C\", \"D\"),(\"E\", \"A\"),(\"A\", \"C\")}\n",
        "\n",
        "print(\"Edges:\",edge)\n",
        "print(\"Vertices:\",vertex)\n"
      ]
    },
    {
      "cell_type": "markdown",
      "metadata": {
        "id": "NHt6QEFzwFRi"
      },
      "source": [
        "2. Implement the weighted graph in python code. Use the print_graph() function. (`25 points`)"
      ]
    },
    {
      "cell_type": "code",
      "execution_count": 62,
      "metadata": {
        "id": "fcYP9VF9wFRj",
        "colab": {
          "base_uri": "https://localhost:8080/"
        },
        "outputId": "7763d55c-8908-4e05-a3d1-bc49d48067c7"
      },
      "outputs": [
        {
          "output_type": "stream",
          "name": "stdout",
          "text": [
            "A  ->  C  edge weight:  12\n",
            "A  ->  D  edge weight:  60\n",
            "B  ->  A  edge weight:  10\n",
            "C  ->  B  edge weight:  20\n",
            "C  ->  D  edge weight:  32\n",
            "E  ->  A  edge weight:  7\n"
          ]
        }
      ],
      "source": [
        "# put your answer here\n",
        "add_vertex(\"A\")\n",
        "add_vertex(\"B\")\n",
        "add_vertex(\"C\")\n",
        "add_vertex(\"D\")\n",
        "add_vertex(\"E\")\n",
        "\n",
        "add_edge(\"B\", \"A\", 10)\n",
        "add_edge(\"A\", \"D\", 60)\n",
        "add_edge(\"C\", \"B\", 20)\n",
        "add_edge(\"C\", \"D\", 32)\n",
        "add_edge(\"E\", \"A\", 7)\n",
        "add_edge(\"A\", \"C\", 12)\n",
        "\n",
        "print_graph()"
      ]
    },
    {
      "cell_type": "markdown",
      "metadata": {
        "id": "kD-6afNTwFRj"
      },
      "source": [
        "3. You decided to go on a trip around the philippines. Being a computer scientist, you wanted to find the optimal route that would cost the least amount of money to travel all four cities. Find the route and print the total cost of the most optimal route. (`50 points`)"
      ]
    },
    {
      "cell_type": "markdown",
      "metadata": {
        "id": "cBHIHSIewFRj"
      },
      "source": [
        "<img src=\"https://github.com/robitussin/CCALCOMP_EXERCISES/blob/main/images/trip.png?raw=true\" width=\"500\" height=\"600\"/>"
      ]
    },
    {
      "cell_type": "code",
      "execution_count": 63,
      "metadata": {
        "id": "yNwmvIXnwFRj",
        "colab": {
          "base_uri": "https://localhost:8080/"
        },
        "outputId": "e7172596-1665-468b-b33f-17f9f10dba59"
      },
      "outputs": [
        {
          "output_type": "stream",
          "name": "stdout",
          "text": [
            "All possible routes:\n",
            "Manila -> Tacloban -> Davao -> Princesa -> Manila with a total cost of 15000 pesos\n",
            "Manila -> Tacloban -> Princesa -> Davao -> Manila with a total cost of 11500 pesos\n",
            "Manila -> Davao -> Tacloban -> Princesa -> Manila with a total cost of 16500 pesos\n",
            "Manila -> Davao -> Princesa -> Tacloban -> Manila with a total cost of 11500 pesos\n",
            "Manila -> Princesa -> Tacloban -> Davao -> Manila with a total cost of 16500 pesos\n",
            "Manila -> Princesa -> Davao -> Tacloban -> Manila with a total cost of 15000 pesos\n",
            "\n",
            "The CHEAPEST route is:\n",
            "Manila -> Tacloban -> Princesa -> Davao -> Manila with a total cost of 11500 pesos\n",
            "\n",
            "The most expensive route is:\n",
            "Manila -> Davao -> Tacloban -> Princesa -> Manila with a total cost of 16500 pesos\n"
          ]
        }
      ],
      "source": [
        "# put your answer here\n",
        "vertices = []\n",
        "vertices_no = 0\n",
        "graph = []\n",
        "\n",
        "add_vertex(\"Manila\")\n",
        "add_vertex(\"Tacloban\")\n",
        "add_vertex(\"Davao\")\n",
        "add_vertex(\"Princesa\")\n",
        "\n",
        "add_edge(\"Manila\", \"Tacloban\", 1000)\n",
        "add_edge(\"Manila\", \"Davao\", 5000)\n",
        "add_edge(\"Manila\", \"Princesa\", 8000)\n",
        "add_edge(\"Tacloban\", \"Davao\", 2000)\n",
        "add_edge(\"Tacloban\", \"Princesa\", 1500)\n",
        "add_edge(\"Tacloban\", \"Manila\", 1000)\n",
        "add_edge(\"Davao\", \"Tacloban\", 2000)\n",
        "add_edge(\"Davao\", \"Princesa\", 4000)\n",
        "add_edge(\"Davao\", \"Manila\", 5000)\n",
        "add_edge(\"Princesa\", \"Tacloban\", 1500)\n",
        "add_edge(\"Princesa\", \"Davao\", 4000)\n",
        "add_edge(\"Princesa\", \"Manila\", 8000)\n",
        "\n",
        "\n",
        "route_costs = []\n",
        "routes = [\n",
        "    (\"Manila\", \"Tacloban\", \"Davao\", \"Princesa\", \"Manila\"),\n",
        "    (\"Manila\", \"Tacloban\", \"Princesa\", \"Davao\", \"Manila\"),\n",
        "    (\"Manila\", \"Davao\", \"Tacloban\", \"Princesa\", \"Manila\"),\n",
        "    (\"Manila\", \"Davao\", \"Princesa\", \"Tacloban\", \"Manila\"),\n",
        "    (\"Manila\", \"Princesa\", \"Tacloban\", \"Davao\", \"Manila\"),\n",
        "    (\"Manila\", \"Princesa\", \"Davao\", \"Tacloban\", \"Manila\")\n",
        "]\n",
        "\n",
        "for route in routes:\n",
        "    route_cost = 0\n",
        "    for i in range(len(route) - 1):\n",
        "        index1 = vertices.index(route[i])\n",
        "        index2 = vertices.index(route[i + 1])\n",
        "        route_cost += graph[index1][index2]\n",
        "    route_costs.append(route_cost)\n",
        "\n",
        "min_cost_index = route_costs.index(min(route_costs))\n",
        "max_cost_index = route_costs.index(max(route_costs))\n",
        "\n",
        "print(\"All possible routes:\")\n",
        "for i, route in enumerate(routes):\n",
        "    print(\" -> \".join(route), \"with a total cost of\", route_costs[i], \"pesos\")\n",
        "\n",
        "print(\"\\nThe CHEAPEST route is:\")\n",
        "print(\" -> \".join(routes[min_cost_index]), \"with a total cost of\", route_costs[min_cost_index], \"pesos\")\n",
        "\n",
        "print(\"\\nThe most expensive route is:\")\n",
        "print(\" -> \".join(routes[max_cost_index]), \"with a total cost of\", route_costs[max_cost_index], \"pesos\")"
      ]
    }
  ],
  "metadata": {
    "kernelspec": {
      "display_name": "base",
      "language": "python",
      "name": "python3"
    },
    "language_info": {
      "codemirror_mode": {
        "name": "ipython",
        "version": 3
      },
      "file_extension": ".py",
      "mimetype": "text/x-python",
      "name": "python",
      "nbconvert_exporter": "python",
      "pygments_lexer": "ipython3",
      "version": "3.9.6"
    },
    "colab": {
      "provenance": []
    }
  },
  "nbformat": 4,
  "nbformat_minor": 0
}